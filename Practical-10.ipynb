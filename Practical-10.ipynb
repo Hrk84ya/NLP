{
 "cells": [
  {
   "cell_type": "markdown",
   "id": "dd076abd",
   "metadata": {},
   "source": [
    "# Topic Modeling\n",
    "- Topic Modeling is an unsupervised machine learning technique used to discover hidden themes or topics from a collection of documents.\n",
    "- It helps summarize, organize, and understand large sets of text data \n",
    "\n",
    "## Types of Topic Modeling:\n",
    "1. LDA (Latent Dirichlet Allocation) - Probabilistic Approach\n",
    "2. NMF (Non-Negative Matrix Factor) - TF-IDF is used here & formula changes to W*H (here w is for document and h is for word)\n",
    "\n",
    "* how *relevant* is the document is represented by \"W\"\n",
    "* how *relevant* is the word is represented by \"H\""
   ]
  },
  {
   "cell_type": "markdown",
   "id": "c5b43c6f",
   "metadata": {},
   "source": [
    "# Steps in Topic Modeling Pipeline\n",
    "1. Text Cleaning\n",
    "    - Lowercasing\n",
    "    - Removing Punctuations\n",
    "    - Removing Stopwords\n",
    "2. Vectorization\n",
    "    - Use TF-IDF or CountVectorizer to convert text into vectors\n",
    "3. Modeling\n",
    "    - Apply NMF or LDA to extract topics\n",
    "4. Topic Interpretation\n",
    "    - Each topic = top N words\n",
    "    - Each document = mix of topics"
   ]
  },
  {
   "cell_type": "markdown",
   "id": "08c3fdee",
   "metadata": {},
   "source": [
    "# Practical 10\n",
    "\n",
    "## Topic Extraction - Extract the topics from the texts with the "
   ]
  },
  {
   "cell_type": "code",
   "execution_count": 1,
   "id": "1cd00e36",
   "metadata": {},
   "outputs": [],
   "source": [
    "# Importing the libraries\n",
    "import numpy as np\n",
    "import pandas as pd\n",
    "import nltk\n",
    "import re\n",
    "from sklearn.feature_extraction.text import TfidfVectorizer\n",
    "from sklearn.decomposition import NMF\n",
    "from nltk.corpus import stopwords"
   ]
  },
  {
   "cell_type": "code",
   "execution_count": 3,
   "id": "93ecbaff",
   "metadata": {},
   "outputs": [
    {
     "name": "stderr",
     "output_type": "stream",
     "text": [
      "[nltk_data] Downloading package stopwords to\n",
      "[nltk_data]     /Users/hrk84ya/nltk_data...\n",
      "[nltk_data]   Package stopwords is already up-to-date!\n"
     ]
    }
   ],
   "source": [
    "nltk.download('stopwords')\n",
    "stop_words=set(stopwords.words(\"english\"))"
   ]
  },
  {
   "cell_type": "code",
   "execution_count": 4,
   "id": "ba42f9a2",
   "metadata": {},
   "outputs": [],
   "source": [
    "documents=[\"Machine learning is a method of data analysis that automates analytical model building.\",\n",
    "\"Artificial intelligence is intelligence demonstrated by machines, unlike natural intelligence.\",\n",
    "\"Deep learning is part of a broader family of machine learning methods based on artificial neural networks.\",\n",
    "\"Data science is a interdisciplinary field that uses scientific methods to extract insights data.\",\n",
    "\"Python and R are commonly used programming languages in data science and analytics.\",\n",
    "\"Cloud computing enables on-demand access to a shared pool of configurable computing resources.\",\n",
    "\"Cybersecurity is the practice of protecting systems, networks, and programs from digital attacks.\"\n",
    "]"
   ]
  },
  {
   "cell_type": "code",
   "execution_count": 5,
   "id": "bc392930",
   "metadata": {},
   "outputs": [],
   "source": [
    "# step-1: text preprocessing function\n",
    "def preprocess_text(text):\n",
    "    text = text.lower()\n",
    "    text = re.sub(r'\\W+', ' ', text)\n",
    "    text = \" \".join([word for word in text.split() if word not in stop_words])\n",
    "    return text\n",
    "\n",
    "processed_docs = [preprocess_text(doc) for doc in documents]"
   ]
  },
  {
   "cell_type": "code",
   "execution_count": 6,
   "id": "e2d3b745",
   "metadata": {},
   "outputs": [],
   "source": [
    "# step-2: convert text into TF-IDF matrix\n",
    "vectorizer = TfidfVectorizer(max_features=5000)\n",
    "tfidf_matrix = vectorizer.fit_transform(processed_docs)"
   ]
  },
  {
   "cell_type": "code",
   "execution_count": 7,
   "id": "627cd348",
   "metadata": {},
   "outputs": [
    {
     "name": "stderr",
     "output_type": "stream",
     "text": [
      "/opt/anaconda3/lib/python3.12/site-packages/sklearn/decomposition/_nmf.py:1770: ConvergenceWarning: Maximum number of iterations 200 reached. Increase it to improve convergence.\n",
      "  warnings.warn(\n"
     ]
    }
   ],
   "source": [
    "# step-3: apply NMF to extract topics\n",
    "num_topics = 3\n",
    "nmf_model = NMF(n_components=num_topics, random_state=42)\n",
    "W= nmf_model.fit_transform(tfidf_matrix)\n",
    "H=nmf_model.components_"
   ]
  },
  {
   "cell_type": "code",
   "execution_count": 12,
   "id": "7542fc03",
   "metadata": {},
   "outputs": [
    {
     "name": "stdout",
     "output_type": "stream",
     "text": [
      "Topic 1:\n",
      "used, analytics, commonly, science, data\n",
      "Topic 2:\n",
      "building, model, networks, machine, learning\n",
      "Topic 3:\n",
      "shared, cloud, pool, access, computing\n"
     ]
    }
   ],
   "source": [
    "# Step-4: Display the top words in each topic\n",
    "feature_names = vectorizer.get_feature_names_out()\n",
    "\n",
    "def display_topics(model,feature_names,num_words=5):\n",
    "    for topic_idx, topic in enumerate(model):\n",
    "        print(f\"Topic {topic_idx+1}:\")\n",
    "        print(\", \".join([feature_names[i] for i in topic.argsort()[-num_words:]]))\n",
    "\n",
    "display_topics(H, feature_names)"
   ]
  },
  {
   "cell_type": "code",
   "execution_count": null,
   "id": "2f0bbfa1",
   "metadata": {},
   "outputs": [],
   "source": []
  }
 ],
 "metadata": {
  "kernelspec": {
   "display_name": "base",
   "language": "python",
   "name": "python3"
  },
  "language_info": {
   "codemirror_mode": {
    "name": "ipython",
    "version": 3
   },
   "file_extension": ".py",
   "mimetype": "text/x-python",
   "name": "python",
   "nbconvert_exporter": "python",
   "pygments_lexer": "ipython3",
   "version": "3.12.4"
  }
 },
 "nbformat": 4,
 "nbformat_minor": 5
}
