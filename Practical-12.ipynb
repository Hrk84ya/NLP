{
 "cells": [
  {
   "cell_type": "markdown",
   "id": "be2852eb",
   "metadata": {},
   "source": [
    "# Practical - 12\n",
    "## TF-IDF Extraction - Extract the TF-IDF (Term Frequency - Inverse Document Frequency) Matrix for the list of text documents."
   ]
  },
  {
   "cell_type": "code",
   "execution_count": 2,
   "id": "79fc4ee9",
   "metadata": {},
   "outputs": [],
   "source": [
    "from sklearn.feature_extraction.text import TfidfVectorizer"
   ]
  },
  {
   "cell_type": "code",
   "execution_count": 3,
   "id": "7e104525",
   "metadata": {},
   "outputs": [],
   "source": [
    "# sample list of text documents\n",
    "documents=[\n",
    "    \"Natural language processing is fascinating.\",\n",
    "    \"Machine learning enables computers to learn from data.\",\n",
    "    \"Deep learning is a subset of machine learning.\",\n",
    "    \"NLP combines linguistics and AI.\"\n",
    "]\n"
   ]
  },
  {
   "cell_type": "code",
   "execution_count": 4,
   "id": "48a9a44f",
   "metadata": {},
   "outputs": [],
   "source": [
    "# Step - 1: Initialize the TfidfVectorizer\n",
    "vectorizer = TfidfVectorizer() "
   ]
  },
  {
   "cell_type": "code",
   "execution_count": 5,
   "id": "8f172679",
   "metadata": {},
   "outputs": [],
   "source": [
    "# step - 2: Fit the model and transform the documents into TF-IDF matrix\n",
    "tfidf_matrix = vectorizer.fit_transform(documents)"
   ]
  },
  {
   "cell_type": "code",
   "execution_count": 6,
   "id": "41b53d22",
   "metadata": {},
   "outputs": [],
   "source": [
    "# step - 3: Get feature names (words)\n",
    "feature_names = vectorizer.get_feature_names_out()"
   ]
  },
  {
   "cell_type": "code",
   "execution_count": 8,
   "id": "064e9ea8",
   "metadata": {},
   "outputs": [],
   "source": [
    "# step-4 convert the matrix to a dataframe for better visualization\n",
    "import pandas as pd\n",
    "df_tfidf= pd.DataFrame(tfidf_matrix.toarray(), columns=feature_names)"
   ]
  },
  {
   "cell_type": "code",
   "execution_count": 9,
   "id": "f459b934",
   "metadata": {},
   "outputs": [
    {
     "name": "stdout",
     "output_type": "stream",
     "text": [
      "TF-IDF Matrix:\n",
      "\n",
      "         ai       and  combines  computers      data      deep   enables  \\\n",
      "0  0.000000  0.000000  0.000000   0.000000  0.000000  0.000000  0.000000   \n",
      "1  0.000000  0.000000  0.000000   0.371565  0.371565  0.000000  0.371565   \n",
      "2  0.000000  0.000000  0.000000   0.000000  0.000000  0.385484  0.000000   \n",
      "3  0.447214  0.447214  0.447214   0.000000  0.000000  0.000000  0.000000   \n",
      "\n",
      "   fascinating      from        is  ...     learn  learning  linguistics  \\\n",
      "0     0.465162  0.000000  0.366739  ...  0.000000  0.000000     0.000000   \n",
      "1     0.000000  0.371565  0.000000  ...  0.371565  0.292946     0.000000   \n",
      "2     0.000000  0.000000  0.303920  ...  0.000000  0.607841     0.000000   \n",
      "3     0.000000  0.000000  0.000000  ...  0.000000  0.000000     0.447214   \n",
      "\n",
      "    machine   natural       nlp        of  processing    subset        to  \n",
      "0  0.000000  0.465162  0.000000  0.000000    0.465162  0.000000  0.000000  \n",
      "1  0.292946  0.000000  0.000000  0.000000    0.000000  0.000000  0.371565  \n",
      "2  0.303920  0.000000  0.000000  0.385484    0.000000  0.385484  0.000000  \n",
      "3  0.000000  0.000000  0.447214  0.000000    0.000000  0.000000  0.000000  \n",
      "\n",
      "[4 rows x 21 columns]\n"
     ]
    }
   ],
   "source": [
    "# step - 5: Display the TF-IDF matrix\n",
    "print(\"TF-IDF Matrix:\\n\")\n",
    "print(df_tfidf)"
   ]
  },
  {
   "cell_type": "code",
   "execution_count": null,
   "id": "fa410527",
   "metadata": {},
   "outputs": [],
   "source": []
  }
 ],
 "metadata": {
  "kernelspec": {
   "display_name": "base",
   "language": "python",
   "name": "python3"
  },
  "language_info": {
   "codemirror_mode": {
    "name": "ipython",
    "version": 3
   },
   "file_extension": ".py",
   "mimetype": "text/x-python",
   "name": "python",
   "nbconvert_exporter": "python",
   "pygments_lexer": "ipython3",
   "version": "3.12.4"
  }
 },
 "nbformat": 4,
 "nbformat_minor": 5
}
