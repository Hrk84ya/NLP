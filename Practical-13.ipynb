{
 "cells": [
  {
   "cell_type": "markdown",
   "id": "61bb5138",
   "metadata": {},
   "source": [
    "# Practical - 13 A\n",
    "\n",
    "## Merging two tokens as one - Merge the first name and last name as single token in the sentence"
   ]
  },
  {
   "cell_type": "code",
   "execution_count": 1,
   "id": "0416a74e",
   "metadata": {},
   "outputs": [],
   "source": [
    "import spacy"
   ]
  },
  {
   "cell_type": "code",
   "execution_count": 2,
   "id": "4e980470",
   "metadata": {},
   "outputs": [],
   "source": [
    "# Load spacy model\n",
    "nlp=spacy.load(\"en_core_web_sm\")"
   ]
  },
  {
   "cell_type": "code",
   "execution_count": 3,
   "id": "fbfce59a",
   "metadata": {},
   "outputs": [],
   "source": [
    "# sample sentence\n",
    "text=\"Barack Obama was the 44th President of the United States.\""
   ]
  },
  {
   "cell_type": "code",
   "execution_count": 4,
   "id": "71eaf708",
   "metadata": {},
   "outputs": [],
   "source": [
    "# Process the sentence\n",
    "doc=nlp(text)\n"
   ]
  },
  {
   "cell_type": "code",
   "execution_count": 5,
   "id": "584e4bfc",
   "metadata": {},
   "outputs": [
    {
     "name": "stdout",
     "output_type": "stream",
     "text": [
      "Before merging:\n",
      "['Barack', 'Obama', 'was', 'the', '44th', 'President', 'of', 'the', 'United', 'States', '.']\n"
     ]
    }
   ],
   "source": [
    "# Print original tokens\n",
    "print(\"Before merging:\")\n",
    "print([token.text for token in doc])"
   ]
  },
  {
   "cell_type": "code",
   "execution_count": 6,
   "id": "1ed04d1c",
   "metadata": {},
   "outputs": [],
   "source": [
    "# Merge \"Barack Obama\" into a single token\n",
    "with doc.retokenize() as retokenizer:\n",
    "    span=doc[0:2]\n",
    "    retokenizer.merge(span)"
   ]
  },
  {
   "cell_type": "code",
   "execution_count": 7,
   "id": "e9b79899",
   "metadata": {},
   "outputs": [
    {
     "name": "stdout",
     "output_type": "stream",
     "text": [
      "\n",
      "After merging:\n",
      "['Barack Obama', 'was', 'the', '44th', 'President', 'of', 'the', 'United', 'States', '.']\n"
     ]
    }
   ],
   "source": [
    "# print tokens after merging\n",
    "print(\"\\nAfter merging:\")\n",
    "print([token.text for token in doc])"
   ]
  },
  {
   "cell_type": "markdown",
   "id": "2c66d534",
   "metadata": {},
   "source": [
    "# Use NER and do the same code for multiple names"
   ]
  },
  {
   "cell_type": "code",
   "execution_count": 16,
   "id": "8b26b6e9",
   "metadata": {},
   "outputs": [],
   "source": [
    "import spacy\n",
    "\n",
    "# Load spacy model\n",
    "nlp = spacy.load(\"en_core_web_sm\")\n",
    "\n",
    "# Sample text with multiple person names\n",
    "text = \"Barack Obama was the 44th President of the United States. Michelle Obama supported many causes.\"\n",
    "\n",
    "# Process the sentence\n",
    "doc = nlp(text)\n"
   ]
  },
  {
   "cell_type": "code",
   "execution_count": 17,
   "id": "c4739a55",
   "metadata": {},
   "outputs": [
    {
     "name": "stdout",
     "output_type": "stream",
     "text": [
      "Before merging:\n",
      "['Barack', 'Obama', 'was', 'the', '44th', 'President', 'of', 'the', 'United', 'States', '.', 'Michelle', 'Obama', 'supported', 'many', 'causes', '.']\n"
     ]
    }
   ],
   "source": [
    "# Print original tokens\n",
    "print(\"Before merging:\")\n",
    "print([token.text for token in doc])\n"
   ]
  },
  {
   "cell_type": "code",
   "execution_count": 18,
   "id": "1e97218a",
   "metadata": {},
   "outputs": [
    {
     "name": "stdout",
     "output_type": "stream",
     "text": [
      "\n",
      "After merging:\n",
      "['Barack Obama', 'was', 'the', '44th', 'President', 'of', 'the', 'United', 'States', '.', 'Michelle Obama', 'supported', 'many', 'causes', '.']\n"
     ]
    }
   ],
   "source": [
    "# Merge all named entities of type PERSON\n",
    "with doc.retokenize() as retokenizer:\n",
    "    for ent in doc.ents:\n",
    "        if ent.label_ == \"PERSON\":\n",
    "            retokenizer.merge(ent)\n",
    "\n",
    "# Print tokens after merging\n",
    "print(\"\\nAfter merging:\")\n",
    "print([token.text for token in doc])"
   ]
  },
  {
   "cell_type": "code",
   "execution_count": null,
   "id": "daacbd7f",
   "metadata": {},
   "outputs": [],
   "source": []
  }
 ],
 "metadata": {
  "kernelspec": {
   "display_name": "base",
   "language": "python",
   "name": "python3"
  },
  "language_info": {
   "codemirror_mode": {
    "name": "ipython",
    "version": 3
   },
   "file_extension": ".py",
   "mimetype": "text/x-python",
   "name": "python",
   "nbconvert_exporter": "python",
   "pygments_lexer": "ipython3",
   "version": "3.12.4"
  }
 },
 "nbformat": 4,
 "nbformat_minor": 5
}
