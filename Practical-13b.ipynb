{
 "cells": [
  {
   "cell_type": "markdown",
   "id": "a4a1dbae",
   "metadata": {},
   "source": [
    "# Practical - 13 B\n",
    "\n",
    "## Replace All Names - Identify and replace all the person names in the news article with UNKNOWN to keep privacy"
   ]
  },
  {
   "cell_type": "code",
   "execution_count": null,
   "id": "ea39a897",
   "metadata": {},
   "outputs": [],
   "source": [
    "# Importing the module\n",
    "import spacy"
   ]
  },
  {
   "cell_type": "code",
   "execution_count": null,
   "id": "37d16a57",
   "metadata": {},
   "outputs": [],
   "source": [
    "# Loading the spacy model\n",
    "nlp=spacy.load(\"en_core_web_sm\")"
   ]
  },
  {
   "cell_type": "code",
   "execution_count": null,
   "id": "b7f2e9c1",
   "metadata": {},
   "outputs": [],
   "source": [
    "# sample text\n",
    "text=\"Elon Musk met with Tim Cook in California to discuss AI regulations. Barack Obama also commented on the issue.\""
   ]
  },
  {
   "cell_type": "code",
   "execution_count": null,
   "id": "c0f2d184",
   "metadata": {},
   "outputs": [],
   "source": [
    "# Process the text\n",
    "doc=nlp(text)"
   ]
  },
  {
   "cell_type": "code",
   "execution_count": null,
   "id": "3ecf2753",
   "metadata": {},
   "outputs": [],
   "source": [
    "# create a new list to store the modified tokens\n",
    "new_tokens=[]"
   ]
  },
  {
   "cell_type": "code",
   "execution_count": 13,
   "id": "6477face",
   "metadata": {},
   "outputs": [],
   "source": [
    "# Loop through the named entities\n",
    "for ent in doc.ents:\n",
    "    if ent.label_==\"PERSON\":\n",
    "        text=text.replace(ent.text, \"UNKNOWN\")\n"
   ]
  },
  {
   "cell_type": "code",
   "execution_count": 15,
   "id": "8824278b",
   "metadata": {},
   "outputs": [
    {
     "name": "stdout",
     "output_type": "stream",
     "text": [
      "Modified text: UNKNOWN met with UNKNOWN in California to discuss AI regulations. UNKNOWN also commented on the issue.\n"
     ]
    }
   ],
   "source": [
    "# Output the modified text\n",
    "print(\"Modified text:\", text)"
   ]
  },
  {
   "cell_type": "code",
   "execution_count": null,
   "id": "cd84ca5c",
   "metadata": {},
   "outputs": [],
   "source": []
  }
 ],
 "metadata": {
  "kernelspec": {
   "display_name": "base",
   "language": "python",
   "name": "python3"
  },
  "language_info": {
   "codemirror_mode": {
    "name": "ipython",
    "version": 3
   },
   "file_extension": ".py",
   "mimetype": "text/x-python",
   "name": "python",
   "nbconvert_exporter": "python",
   "pygments_lexer": "ipython3",
   "version": "3.12.4"
  }
 },
 "nbformat": 4,
 "nbformat_minor": 5
}
