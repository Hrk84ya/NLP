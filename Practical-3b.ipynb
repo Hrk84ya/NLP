{
 "cells": [
  {
   "cell_type": "markdown",
   "metadata": {},
   "source": [
    "# Practical - 3B "
   ]
  },
  {
   "cell_type": "markdown",
   "metadata": {},
   "source": [
    "## **Spacy**\n",
    "\n",
    "### 1. Its object-oriented and faster than NLTK\n",
    "### 2. Used in industry\n",
    "### 3. Multi-task learning with pretrained transformers like BERT\n",
    "### 4. State-of-the-art speed\n",
    "### 5. Production-ready training system\n",
    "### 6. Linguistically-motivated tokenization "
   ]
  },
  {
   "cell_type": "markdown",
   "metadata": {},
   "source": [
    "## Practical:\n",
    "Adding Stop Words - Add the custom stopwords \"NIL\" and \"JUNK\" in Spacy and remove the stopwords in text"
   ]
  },
  {
   "cell_type": "code",
   "execution_count": null,
   "metadata": {},
   "outputs": [
    {
     "name": "stdout",
     "output_type": "stream",
     "text": [
      "Collecting en-core-web-sm==3.8.0\n",
      "  Downloading https://github.com/explosion/spacy-models/releases/download/en_core_web_sm-3.8.0/en_core_web_sm-3.8.0-py3-none-any.whl (12.8 MB)\n",
      "\u001b[2K     \u001b[90m━━━━━━━━━━━━━━━━━━━━━━━━━━━━━━━━━━━━━━━━\u001b[0m \u001b[32m12.8/12.8 MB\u001b[0m \u001b[31m1.8 MB/s\u001b[0m eta \u001b[36m0:00:00\u001b[0m00:01\u001b[0m00:01\u001b[0m\n",
      "\u001b[?25h\u001b[38;5;2m✔ Download and installation successful\u001b[0m\n",
      "You can now load the package via spacy.load('en_core_web_sm')\n"
     ]
    }
   ],
   "source": [
    "import spacy\n",
    "\n",
    "# Download the model\n",
    "!python -m spacy download en_core_web_sm\n",
    "\n",
    "# Load the model\n",
    "nlp = spacy.load('en_core_web_sm')"
   ]
  },
  {
   "cell_type": "markdown",
   "metadata": {},
   "source": [
    "## Loading the model\n",
    "* Loads the small english language model (en_core_web_sm) from spacy\n",
    "* This model provides pre-trained word embeddings, part-of-speech tagging, named entity recognition, and other NLP capabilities <br>\n",
    "* sm stands for small; md is for medium; lg is for large\n",
    "\n",
    "### Named Entity Recognition (NER) : Named entity recognition (NER) is a subfield of natural language processing (NLP) that focuses on identifying and classifying specific data points from textual content"
   ]
  },
  {
   "cell_type": "code",
   "execution_count": 23,
   "metadata": {},
   "outputs": [],
   "source": [
    "# Adding custom stop words\n",
    "nlp.Defaults.stop_words.add(\"nil\")\n",
    "nlp.Defaults.stop_words.add(\"junk\")"
   ]
  },
  {
   "cell_type": "code",
   "execution_count": 24,
   "metadata": {},
   "outputs": [],
   "source": [
    "# sample text\n",
    "text=\"This is a JUNK sentence that contains NIL information but is useful for testing.\""
   ]
  },
  {
   "cell_type": "code",
   "execution_count": 25,
   "metadata": {},
   "outputs": [],
   "source": [
    "# processing the text\n",
    "doc=nlp(text)"
   ]
  },
  {
   "cell_type": "code",
   "execution_count": 27,
   "metadata": {},
   "outputs": [],
   "source": [
    "# Remove the stop words (including the custom ones)\n",
    "filtered_words=[token.text for token in doc if token.text.lower() not in nlp.Defaults.stop_words]"
   ]
  },
  {
   "cell_type": "code",
   "execution_count": 28,
   "metadata": {},
   "outputs": [
    {
     "name": "stdout",
     "output_type": "stream",
     "text": [
      "Original Text:  This is a JUNK sentence that contains NIL information but is useful for testing.\n",
      "Filtered Text:  sentence contains information useful testing .\n"
     ]
    }
   ],
   "source": [
    "# Display results\n",
    "print(\"Original Text: \", text)\n",
    "print(\"Filtered Text: \",\" \".join(filtered_words))"
   ]
  },
  {
   "cell_type": "code",
   "execution_count": null,
   "metadata": {},
   "outputs": [],
   "source": []
  }
 ],
 "metadata": {
  "kernelspec": {
   "display_name": "base",
   "language": "python",
   "name": "python3"
  },
  "language_info": {
   "codemirror_mode": {
    "name": "ipython",
    "version": 3
   },
   "file_extension": ".py",
   "mimetype": "text/x-python",
   "name": "python",
   "nbconvert_exporter": "python",
   "pygments_lexer": "ipython3",
   "version": "3.12.4"
  }
 },
 "nbformat": 4,
 "nbformat_minor": 2
}
