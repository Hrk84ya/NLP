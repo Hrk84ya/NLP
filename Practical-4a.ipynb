{
 "cells": [
  {
   "cell_type": "markdown",
   "metadata": {},
   "source": [
    "# Stemming\n",
    "### Stemming is a method in text processing that eliminates prefixes and suffixes from words, transforming them into their fundamental or root form. The main objective of stemming is to streamline and standardize words, enhancing the effectiveness of the natural language processing tasks."
   ]
  },
  {
   "cell_type": "code",
   "execution_count": 1,
   "metadata": {},
   "outputs": [],
   "source": [
    "import nltk\n",
    "from nltk.stem import PorterStemmer"
   ]
  },
  {
   "cell_type": "code",
   "execution_count": 2,
   "metadata": {},
   "outputs": [],
   "source": [
    "# creating a PorterStemmer Object\n",
    "porter_stemmer=PorterStemmer()"
   ]
  },
  {
   "cell_type": "code",
   "execution_count": 3,
   "metadata": {},
   "outputs": [],
   "source": [
    "# sample words for stemming\n",
    "words=[\"running\",\"ran\",\"jumps\",\"jumped\",\"happiness\",\"happy\"]"
   ]
  },
  {
   "cell_type": "code",
   "execution_count": 4,
   "metadata": {},
   "outputs": [],
   "source": [
    "#Perform stemming on each word\n",
    "stemmed_words=[porter_stemmer.stem(word) for word in words]"
   ]
  },
  {
   "cell_type": "code",
   "execution_count": 5,
   "metadata": {},
   "outputs": [
    {
     "name": "stdout",
     "output_type": "stream",
     "text": [
      "running  -> run\n",
      "ran  -> ran\n",
      "jumps  -> jump\n",
      "jumped  -> jump\n",
      "happiness  -> happi\n",
      "happy  -> happi\n"
     ]
    }
   ],
   "source": [
    "# Display the original words and their stemmed forms\n",
    "for original, stemmed in zip(words, stemmed_words):\n",
    "    print(f\"{original}  -> {stemmed}\")"
   ]
  },
  {
   "cell_type": "markdown",
   "metadata": {},
   "source": [
    "## Note: Lemmatization is more advance than stemming.\n",
    "As you can see \"Happy\" changed to \"happi\", this is the problem in stemming "
   ]
  }
 ],
 "metadata": {
  "kernelspec": {
   "display_name": "base",
   "language": "python",
   "name": "python3"
  },
  "language_info": {
   "codemirror_mode": {
    "name": "ipython",
    "version": 3
   },
   "file_extension": ".py",
   "mimetype": "text/x-python",
   "name": "python",
   "nbconvert_exporter": "python",
   "pygments_lexer": "ipython3",
   "version": "3.12.4"
  }
 },
 "nbformat": 4,
 "nbformat_minor": 2
}
