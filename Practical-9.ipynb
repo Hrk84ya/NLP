{
 "cells": [
  {
   "cell_type": "markdown",
   "id": "db7f5c9c",
   "metadata": {},
   "source": [
    "# Named Entity Recognition"
   ]
  },
  {
   "cell_type": "markdown",
   "id": "d5e0a06a",
   "metadata": {},
   "source": [
    "Named entity recognition (NER) is a component of natural language processing (NLP) that identifies predefined categories of objects in a body of text.\n",
    "These categories can include, but are not limited to, names of individuals, organizations, locations, expressions of times, quantities, medical codes, monetary values and percentages, among others.\n",
    "\n"
   ]
  },
  {
   "cell_type": "markdown",
   "id": "0f1c44ec",
   "metadata": {},
   "source": [
    "## Types of NER:\n",
    "- Person (PER)\n",
    "- Organization (ORG)\n",
    "- Location (LOC)\n",
    "- Date & Time (DATE/TIME)\n",
    "- Monetary Value (MONEY)\n",
    "- Percentage (PERCENT)\n",
    "- Miscellaneous (MISC)"
   ]
  },
  {
   "cell_type": "markdown",
   "id": "2756aca4",
   "metadata": {},
   "source": []
  },
  {
   "cell_type": "code",
   "execution_count": 1,
   "id": "b221d631",
   "metadata": {},
   "outputs": [],
   "source": [
    "import spacy"
   ]
  },
  {
   "cell_type": "code",
   "execution_count": 2,
   "id": "c145b2b6",
   "metadata": {},
   "outputs": [],
   "source": [
    "nlp=spacy.load(\"en_core_web_sm\")"
   ]
  },
  {
   "cell_type": "code",
   "execution_count": 3,
   "id": "8de203d8",
   "metadata": {},
   "outputs": [],
   "source": [
    "doc=\"Steve Jobs was the CEO of Apple Inc. He was born in San Francisco, California.\"\n",
    "doc=nlp(doc)"
   ]
  },
  {
   "cell_type": "code",
   "execution_count": 6,
   "id": "86da3c37",
   "metadata": {},
   "outputs": [
    {
     "name": "stdout",
     "output_type": "stream",
     "text": [
      "Entity: Steve Jobs, Label: PERSON\n",
      "Entity: Apple Inc., Label: ORG\n",
      "Entity: San Francisco, Label: GPE\n",
      "Entity: California, Label: GPE\n"
     ]
    }
   ],
   "source": [
    "for i in doc.ents:\n",
    "    print(f\"Entity: {i.text}, Label: {i.label_}\")"
   ]
  },
  {
   "cell_type": "markdown",
   "id": "b38c76ff",
   "metadata": {},
   "source": [
    "# Practical 9"
   ]
  },
  {
   "cell_type": "markdown",
   "id": "e9d0ac5f",
   "metadata": {},
   "source": [
    "## Replacing Pronouns - Replace the pronouns in text by the respective object names"
   ]
  },
  {
   "cell_type": "code",
   "execution_count": 23,
   "id": "1808c765",
   "metadata": {},
   "outputs": [],
   "source": [
    "import spacy"
   ]
  },
  {
   "cell_type": "code",
   "execution_count": 24,
   "id": "48ab248c",
   "metadata": {},
   "outputs": [],
   "source": [
    "nlp=spacy.load(\"en_core_web_sm\")"
   ]
  },
  {
   "cell_type": "code",
   "execution_count": 25,
   "id": "ac3cb000",
   "metadata": {},
   "outputs": [],
   "source": [
    "def replace_pronouns(text):\n",
    "    doc=nlp(text)\n",
    "    entities={}\n",
    "\n",
    "    for ent in doc.ents:\n",
    "        entities[ent.label_]=ent.text\n",
    "\n",
    "    replaced_text=[]\n",
    "    for token in doc:\n",
    "        if token.pos_==\"PRON\" and token.dep_ in {\"nsubj\",\"nsubjpass\"}:\n",
    "            replaced_text.append(entities.get(\"PERSON\", token.text))\n",
    "        else:\n",
    "            replaced_text.append(token.text)\n",
    "\n",
    "    return \" \".join(replaced_text)"
   ]
  },
  {
   "cell_type": "code",
   "execution_count": 28,
   "id": "fe2d30ab",
   "metadata": {},
   "outputs": [
    {
     "name": "stdout",
     "output_type": "stream",
     "text": [
      "Original Text: My name is Maximus Decimus Meridius, commander of the Armies of the North, General of the Felix Legions and loyal servant to the true emperor, Marcus Aurelius.\n",
      " Father to a murdered son. Husband to a murdered wife. And I will have my vengeance, in this life or the next.\n",
      "\n",
      "Modified Text: My name is Maximus Decimus Meridius , commander of the Armies of the North , General of the Felix Legions and loyal servant to the true emperor , Marcus Aurelius . \n",
      "  Father to a murdered son . Husband to a murdered wife . And Maximus Decimus Meridius will have my vengeance , in this life or the next .\n"
     ]
    }
   ],
   "source": [
    "text=\"\"\"My name is Maximus Decimus Meridius, commander of the Armies of the North, General of the Felix Legions and loyal servant to the true emperor, Marcus Aurelius.\n",
    " Father to a murdered son. Husband to a murdered wife. And I will have my vengeance, in this life or the next.\"\"\"\n",
    "\n",
    "print(\"Original Text:\",text)\n",
    "print()\n",
    "print(\"Modified Text:\",replace_pronouns(text))"
   ]
  },
  {
   "cell_type": "code",
   "execution_count": null,
   "id": "7a04f151",
   "metadata": {},
   "outputs": [],
   "source": []
  }
 ],
 "metadata": {
  "kernelspec": {
   "display_name": "base",
   "language": "python",
   "name": "python3"
  },
  "language_info": {
   "codemirror_mode": {
    "name": "ipython",
    "version": 3
   },
   "file_extension": ".py",
   "mimetype": "text/x-python",
   "name": "python",
   "nbconvert_exporter": "python",
   "pygments_lexer": "ipython3",
   "version": "3.12.4"
  }
 },
 "nbformat": 4,
 "nbformat_minor": 5
}
